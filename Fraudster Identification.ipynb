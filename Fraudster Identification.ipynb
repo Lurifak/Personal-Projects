{
 "cells": [
  {
   "cell_type": "markdown",
   "id": "d6c15233",
   "metadata": {},
   "source": [
    "# Fraudster Identification"
   ]
  },
  {
   "cell_type": "markdown",
   "id": "269f72c8",
   "metadata": {},
   "source": [
    "## Table of Contents\n",
    "* [Introduction](#chapter1)\n",
    "* [Preprocessing & Exploration](#chapter1)\n",
    "* [Selecting Models](#chapter2)\n",
    "    * [Logistic Model](#section_2_1)\n",
    "    * [Random Forest](#section_2_2)\n",
    "    * [Feedforward Neural Network](#section_2_3)\n",
    "* [Conclusion](#chapter3)"
   ]
  },
  {
   "cell_type": "markdown",
   "id": "28824b33",
   "metadata": {},
   "source": [
    "## Introduction <a name=\"introduction\"></a>\n",
    "\n",
    "This is an assignment given by Revolut as part of their interview process for recruiting junior data scientists. The full project is retrieved from https://platform.stratascratch.com/data-projects/fraudsters-detection (may require premium access). It is estimated that the project would take roughly 3 hours to complete, and as such I have tried to keep the project short.\n",
    "\n",
    "The assignment given is as follows: \"Explore the data for identified fraudsters and other users. What are your preliminary observations? Utilizing your findings from and some creativity, create some features. Explain your reasoning behind the features. Create an ML model which identifies fraudsters.\""
   ]
  },
  {
   "cell_type": "code",
   "execution_count": 53,
   "id": "aa4b3f92",
   "metadata": {},
   "outputs": [],
   "source": [
    "#Loading libraries\n",
    "\n",
    "import pandas as pd\n",
    "import numpy as np\n",
    "import pyforest\n",
    "import warnings\n",
    "from tensorflow.keras.models import Sequential\n",
    "from tensorflow.keras.layers import Dense\n",
    "warnings.filterwarnings(\"ignore\")\n",
    "from sklearn import metrics\n",
    "from sklearn.tree import DecisionTreeClassifier, plot_tree\n",
    "from sklearn.model_selection import train_test_split\n",
    "from sklearn.metrics import ConfusionMatrixDisplay, mean_squared_error, classification_report, confusion_matrix, accuracy_score\n",
    "from sklearn.dummy import DummyClassifier\n",
    "from sklearn.preprocessing import StandardScaler\n",
    "from sklearn.linear_model import LogisticRegression"
   ]
  },
  {
   "cell_type": "code",
   "execution_count": 54,
   "id": "c79367f6",
   "metadata": {},
   "outputs": [],
   "source": [
    "#Loading files\n",
    "\n",
    "countries=pd.read_csv('countries.csv')\n",
    "currencies=pd.read_csv('currency_details.csv')\n",
    "transactions=pd.read_csv('transactions.csv')\n",
    "users=pd.read_csv('users.csv')"
   ]
  },
  {
   "cell_type": "code",
   "execution_count": 55,
   "id": "9cf703b1",
   "metadata": {},
   "outputs": [
    {
     "data": {
      "text/html": [
       "<div>\n",
       "<style scoped>\n",
       "    .dataframe tbody tr th:only-of-type {\n",
       "        vertical-align: middle;\n",
       "    }\n",
       "\n",
       "    .dataframe tbody tr th {\n",
       "        vertical-align: top;\n",
       "    }\n",
       "\n",
       "    .dataframe thead th {\n",
       "        text-align: right;\n",
       "    }\n",
       "</style>\n",
       "<table border=\"1\" class=\"dataframe\">\n",
       "  <thead>\n",
       "    <tr style=\"text-align: right;\">\n",
       "      <th></th>\n",
       "      <th>CODE</th>\n",
       "      <th>NAME</th>\n",
       "      <th>CODE3</th>\n",
       "      <th>NUMCODE</th>\n",
       "      <th>PHONECODE</th>\n",
       "    </tr>\n",
       "  </thead>\n",
       "  <tbody>\n",
       "    <tr>\n",
       "      <th>0</th>\n",
       "      <td>AF</td>\n",
       "      <td>Afghanistan</td>\n",
       "      <td>AFG</td>\n",
       "      <td>4</td>\n",
       "      <td>93</td>\n",
       "    </tr>\n",
       "    <tr>\n",
       "      <th>1</th>\n",
       "      <td>AL</td>\n",
       "      <td>Albania</td>\n",
       "      <td>ALB</td>\n",
       "      <td>8</td>\n",
       "      <td>355</td>\n",
       "    </tr>\n",
       "    <tr>\n",
       "      <th>2</th>\n",
       "      <td>DZ</td>\n",
       "      <td>Algeria</td>\n",
       "      <td>DZA</td>\n",
       "      <td>12</td>\n",
       "      <td>213</td>\n",
       "    </tr>\n",
       "    <tr>\n",
       "      <th>3</th>\n",
       "      <td>AS</td>\n",
       "      <td>American Samoa</td>\n",
       "      <td>ASM</td>\n",
       "      <td>16</td>\n",
       "      <td>1684</td>\n",
       "    </tr>\n",
       "    <tr>\n",
       "      <th>4</th>\n",
       "      <td>AO</td>\n",
       "      <td>Angola</td>\n",
       "      <td>AGO</td>\n",
       "      <td>24</td>\n",
       "      <td>244</td>\n",
       "    </tr>\n",
       "  </tbody>\n",
       "</table>\n",
       "</div>"
      ],
      "text/plain": [
       "  CODE            NAME CODE3  NUMCODE  PHONECODE\n",
       "0   AF     Afghanistan   AFG        4         93\n",
       "1   AL         Albania   ALB        8        355\n",
       "2   DZ         Algeria   DZA       12        213\n",
       "3   AS  American Samoa   ASM       16       1684\n",
       "4   AO          Angola   AGO       24        244"
      ]
     },
     "execution_count": 55,
     "metadata": {},
     "output_type": "execute_result"
    }
   ],
   "source": [
    "countries.head()"
   ]
  },
  {
   "cell_type": "code",
   "execution_count": 56,
   "id": "4e269c91",
   "metadata": {},
   "outputs": [
    {
     "data": {
      "text/html": [
       "<div>\n",
       "<style scoped>\n",
       "    .dataframe tbody tr th:only-of-type {\n",
       "        vertical-align: middle;\n",
       "    }\n",
       "\n",
       "    .dataframe tbody tr th {\n",
       "        vertical-align: top;\n",
       "    }\n",
       "\n",
       "    .dataframe thead th {\n",
       "        text-align: right;\n",
       "    }\n",
       "</style>\n",
       "<table border=\"1\" class=\"dataframe\">\n",
       "  <thead>\n",
       "    <tr style=\"text-align: right;\">\n",
       "      <th></th>\n",
       "      <th>CCY</th>\n",
       "      <th>EXPONENT</th>\n",
       "      <th>IS_CRYPTO</th>\n",
       "    </tr>\n",
       "  </thead>\n",
       "  <tbody>\n",
       "    <tr>\n",
       "      <th>0</th>\n",
       "      <td>AED</td>\n",
       "      <td>2</td>\n",
       "      <td>False</td>\n",
       "    </tr>\n",
       "    <tr>\n",
       "      <th>1</th>\n",
       "      <td>AFN</td>\n",
       "      <td>2</td>\n",
       "      <td>False</td>\n",
       "    </tr>\n",
       "    <tr>\n",
       "      <th>2</th>\n",
       "      <td>ALL</td>\n",
       "      <td>2</td>\n",
       "      <td>False</td>\n",
       "    </tr>\n",
       "    <tr>\n",
       "      <th>3</th>\n",
       "      <td>AMD</td>\n",
       "      <td>2</td>\n",
       "      <td>False</td>\n",
       "    </tr>\n",
       "    <tr>\n",
       "      <th>4</th>\n",
       "      <td>ANG</td>\n",
       "      <td>2</td>\n",
       "      <td>False</td>\n",
       "    </tr>\n",
       "  </tbody>\n",
       "</table>\n",
       "</div>"
      ],
      "text/plain": [
       "   CCY  EXPONENT  IS_CRYPTO\n",
       "0  AED         2      False\n",
       "1  AFN         2      False\n",
       "2  ALL         2      False\n",
       "3  AMD         2      False\n",
       "4  ANG         2      False"
      ]
     },
     "execution_count": 56,
     "metadata": {},
     "output_type": "execute_result"
    }
   ],
   "source": [
    "currencies.head()"
   ]
  },
  {
   "cell_type": "code",
   "execution_count": 57,
   "id": "eb15482b",
   "metadata": {},
   "outputs": [
    {
     "data": {
      "text/html": [
       "<div>\n",
       "<style scoped>\n",
       "    .dataframe tbody tr th:only-of-type {\n",
       "        vertical-align: middle;\n",
       "    }\n",
       "\n",
       "    .dataframe tbody tr th {\n",
       "        vertical-align: top;\n",
       "    }\n",
       "\n",
       "    .dataframe thead th {\n",
       "        text-align: right;\n",
       "    }\n",
       "</style>\n",
       "<table border=\"1\" class=\"dataframe\">\n",
       "  <thead>\n",
       "    <tr style=\"text-align: right;\">\n",
       "      <th></th>\n",
       "      <th>CURRENCY</th>\n",
       "      <th>AMOUNT</th>\n",
       "      <th>STATE</th>\n",
       "      <th>CREATED_DATE</th>\n",
       "      <th>MERCHANT_CATEGORY</th>\n",
       "      <th>MERCHANT_COUNTRY</th>\n",
       "      <th>ENTRY_METHOD</th>\n",
       "      <th>USER_ID</th>\n",
       "      <th>TYPE</th>\n",
       "      <th>SOURCE</th>\n",
       "      <th>ID</th>\n",
       "      <th>AMOUNT_USD</th>\n",
       "    </tr>\n",
       "  </thead>\n",
       "  <tbody>\n",
       "    <tr>\n",
       "      <th>0</th>\n",
       "      <td>GBP</td>\n",
       "      <td>4420</td>\n",
       "      <td>COMPLETED</td>\n",
       "      <td>2017-12-10 16:38:55.577</td>\n",
       "      <td>NaN</td>\n",
       "      <td>NLD</td>\n",
       "      <td>chip</td>\n",
       "      <td>3ff52b92-d416-4e22-8cad-018f500d4bbc</td>\n",
       "      <td>ATM</td>\n",
       "      <td>GAIA</td>\n",
       "      <td>367bf5f9-7cce-4683-90b9-d3c011bf4c87</td>\n",
       "      <td>3268.0</td>\n",
       "    </tr>\n",
       "    <tr>\n",
       "      <th>1</th>\n",
       "      <td>PLN</td>\n",
       "      <td>1500</td>\n",
       "      <td>COMPLETED</td>\n",
       "      <td>2017-12-10 16:37:24.792</td>\n",
       "      <td>point_of_interest</td>\n",
       "      <td>POL</td>\n",
       "      <td>manu</td>\n",
       "      <td>76cbaad3-4721-4a3b-92b9-3eb9e9319565</td>\n",
       "      <td>CARD_PAYMENT</td>\n",
       "      <td>GAIA</td>\n",
       "      <td>ff6802b9-360d-4efe-b09b-f99c6cac3383</td>\n",
       "      <td>NaN</td>\n",
       "    </tr>\n",
       "    <tr>\n",
       "      <th>2</th>\n",
       "      <td>GBP</td>\n",
       "      <td>191</td>\n",
       "      <td>COMPLETED</td>\n",
       "      <td>2017-12-10 16:37:16.234</td>\n",
       "      <td>airport</td>\n",
       "      <td>PRT</td>\n",
       "      <td>chip</td>\n",
       "      <td>7bcaa34e-b889-4582-9c29-0b3bab34fb8c</td>\n",
       "      <td>CARD_PAYMENT</td>\n",
       "      <td>GAIA</td>\n",
       "      <td>ddb4a930-7d8a-4f38-9079-ddc4b0db980e</td>\n",
       "      <td>141.0</td>\n",
       "    </tr>\n",
       "    <tr>\n",
       "      <th>3</th>\n",
       "      <td>GBP</td>\n",
       "      <td>10000</td>\n",
       "      <td>COMPLETED</td>\n",
       "      <td>2017-12-10 16:34:42.592</td>\n",
       "      <td>NaN</td>\n",
       "      <td>NaN</td>\n",
       "      <td>misc</td>\n",
       "      <td>b3a6762b-a940-4459-bb1d-8e28e151f901</td>\n",
       "      <td>TOPUP</td>\n",
       "      <td>HERA</td>\n",
       "      <td>080ef0be-850a-4f14-ab03-28ff68e6b797</td>\n",
       "      <td>7394.0</td>\n",
       "    </tr>\n",
       "    <tr>\n",
       "      <th>4</th>\n",
       "      <td>EUR</td>\n",
       "      <td>1159</td>\n",
       "      <td>COMPLETED</td>\n",
       "      <td>2017-12-10 16:34:17.88</td>\n",
       "      <td>NaN</td>\n",
       "      <td>FRA</td>\n",
       "      <td>manu</td>\n",
       "      <td>f5723f5e-5a00-4851-ae1d-5c11146aa491</td>\n",
       "      <td>CARD_PAYMENT</td>\n",
       "      <td>GAIA</td>\n",
       "      <td>bd13abac-4004-4c67-9bb7-90a42b027e82</td>\n",
       "      <td>977.0</td>\n",
       "    </tr>\n",
       "  </tbody>\n",
       "</table>\n",
       "</div>"
      ],
      "text/plain": [
       "  CURRENCY  AMOUNT      STATE             CREATED_DATE  MERCHANT_CATEGORY  \\\n",
       "0      GBP    4420  COMPLETED  2017-12-10 16:38:55.577                NaN   \n",
       "1      PLN    1500  COMPLETED  2017-12-10 16:37:24.792  point_of_interest   \n",
       "2      GBP     191  COMPLETED  2017-12-10 16:37:16.234            airport   \n",
       "3      GBP   10000  COMPLETED  2017-12-10 16:34:42.592                NaN   \n",
       "4      EUR    1159  COMPLETED   2017-12-10 16:34:17.88                NaN   \n",
       "\n",
       "  MERCHANT_COUNTRY ENTRY_METHOD                               USER_ID  \\\n",
       "0              NLD         chip  3ff52b92-d416-4e22-8cad-018f500d4bbc   \n",
       "1              POL         manu  76cbaad3-4721-4a3b-92b9-3eb9e9319565   \n",
       "2              PRT         chip  7bcaa34e-b889-4582-9c29-0b3bab34fb8c   \n",
       "3              NaN         misc  b3a6762b-a940-4459-bb1d-8e28e151f901   \n",
       "4              FRA         manu  f5723f5e-5a00-4851-ae1d-5c11146aa491   \n",
       "\n",
       "           TYPE SOURCE                                    ID  AMOUNT_USD  \n",
       "0           ATM   GAIA  367bf5f9-7cce-4683-90b9-d3c011bf4c87      3268.0  \n",
       "1  CARD_PAYMENT   GAIA  ff6802b9-360d-4efe-b09b-f99c6cac3383         NaN  \n",
       "2  CARD_PAYMENT   GAIA  ddb4a930-7d8a-4f38-9079-ddc4b0db980e       141.0  \n",
       "3         TOPUP   HERA  080ef0be-850a-4f14-ab03-28ff68e6b797      7394.0  \n",
       "4  CARD_PAYMENT   GAIA  bd13abac-4004-4c67-9bb7-90a42b027e82       977.0  "
      ]
     },
     "execution_count": 57,
     "metadata": {},
     "output_type": "execute_result"
    }
   ],
   "source": [
    "transactions.head()"
   ]
  },
  {
   "cell_type": "code",
   "execution_count": 58,
   "id": "2b9ce00a",
   "metadata": {},
   "outputs": [
    {
     "data": {
      "text/html": [
       "<div>\n",
       "<style scoped>\n",
       "    .dataframe tbody tr th:only-of-type {\n",
       "        vertical-align: middle;\n",
       "    }\n",
       "\n",
       "    .dataframe tbody tr th {\n",
       "        vertical-align: top;\n",
       "    }\n",
       "\n",
       "    .dataframe thead th {\n",
       "        text-align: right;\n",
       "    }\n",
       "</style>\n",
       "<table border=\"1\" class=\"dataframe\">\n",
       "  <thead>\n",
       "    <tr style=\"text-align: right;\">\n",
       "      <th></th>\n",
       "      <th>ID</th>\n",
       "      <th>HAS_EMAIL</th>\n",
       "      <th>PHONE_COUNTRY</th>\n",
       "      <th>IS_FRAUDSTER</th>\n",
       "      <th>TERMS_VERSION</th>\n",
       "      <th>CREATED_DATE</th>\n",
       "      <th>STATE</th>\n",
       "      <th>COUNTRY</th>\n",
       "      <th>BIRTH_YEAR</th>\n",
       "      <th>KYC</th>\n",
       "      <th>FAILED_SIGN_IN_ATTEMPTS</th>\n",
       "    </tr>\n",
       "  </thead>\n",
       "  <tbody>\n",
       "    <tr>\n",
       "      <th>0</th>\n",
       "      <td>1872820f-e3ac-4c02-bdc7-727897b60043</td>\n",
       "      <td>1</td>\n",
       "      <td>GB||JE||IM||GG</td>\n",
       "      <td>False</td>\n",
       "      <td>2018-05-25</td>\n",
       "      <td>2017-08-06 07:33:33.341000</td>\n",
       "      <td>ACTIVE</td>\n",
       "      <td>GB</td>\n",
       "      <td>1971</td>\n",
       "      <td>PASSED</td>\n",
       "      <td>0</td>\n",
       "    </tr>\n",
       "    <tr>\n",
       "      <th>1</th>\n",
       "      <td>545ff94d-66f8-4bea-b398-84425fb2301e</td>\n",
       "      <td>1</td>\n",
       "      <td>GB||JE||IM||GG</td>\n",
       "      <td>False</td>\n",
       "      <td>2018-01-01</td>\n",
       "      <td>2017-03-07 10:18:59.427000</td>\n",
       "      <td>ACTIVE</td>\n",
       "      <td>GB</td>\n",
       "      <td>1982</td>\n",
       "      <td>PASSED</td>\n",
       "      <td>0</td>\n",
       "    </tr>\n",
       "    <tr>\n",
       "      <th>2</th>\n",
       "      <td>10376f1a-a28a-4885-8daa-c8ca496026bb</td>\n",
       "      <td>1</td>\n",
       "      <td>ES</td>\n",
       "      <td>False</td>\n",
       "      <td>2018-09-20</td>\n",
       "      <td>2018-05-31 04:41:24.672000</td>\n",
       "      <td>ACTIVE</td>\n",
       "      <td>ES</td>\n",
       "      <td>1973</td>\n",
       "      <td>PASSED</td>\n",
       "      <td>0</td>\n",
       "    </tr>\n",
       "    <tr>\n",
       "      <th>3</th>\n",
       "      <td>fd308db7-0753-4377-879f-6ecf2af14e4f</td>\n",
       "      <td>1</td>\n",
       "      <td>FR</td>\n",
       "      <td>False</td>\n",
       "      <td>2018-05-25</td>\n",
       "      <td>2018-06-01 17:24:23.852000</td>\n",
       "      <td>ACTIVE</td>\n",
       "      <td>FR</td>\n",
       "      <td>1986</td>\n",
       "      <td>PASSED</td>\n",
       "      <td>0</td>\n",
       "    </tr>\n",
       "    <tr>\n",
       "      <th>4</th>\n",
       "      <td>755fe256-a34d-4853-b7ca-d9bb991a86d3</td>\n",
       "      <td>1</td>\n",
       "      <td>GB||JE||IM||GG</td>\n",
       "      <td>False</td>\n",
       "      <td>2018-09-20</td>\n",
       "      <td>2017-08-09 15:03:33.945000</td>\n",
       "      <td>ACTIVE</td>\n",
       "      <td>GB</td>\n",
       "      <td>1989</td>\n",
       "      <td>PASSED</td>\n",
       "      <td>0</td>\n",
       "    </tr>\n",
       "  </tbody>\n",
       "</table>\n",
       "</div>"
      ],
      "text/plain": [
       "                                     ID  HAS_EMAIL   PHONE_COUNTRY  \\\n",
       "0  1872820f-e3ac-4c02-bdc7-727897b60043          1  GB||JE||IM||GG   \n",
       "1  545ff94d-66f8-4bea-b398-84425fb2301e          1  GB||JE||IM||GG   \n",
       "2  10376f1a-a28a-4885-8daa-c8ca496026bb          1              ES   \n",
       "3  fd308db7-0753-4377-879f-6ecf2af14e4f          1              FR   \n",
       "4  755fe256-a34d-4853-b7ca-d9bb991a86d3          1  GB||JE||IM||GG   \n",
       "\n",
       "   IS_FRAUDSTER TERMS_VERSION                CREATED_DATE   STATE COUNTRY  \\\n",
       "0         False    2018-05-25  2017-08-06 07:33:33.341000  ACTIVE      GB   \n",
       "1         False    2018-01-01  2017-03-07 10:18:59.427000  ACTIVE      GB   \n",
       "2         False    2018-09-20  2018-05-31 04:41:24.672000  ACTIVE      ES   \n",
       "3         False    2018-05-25  2018-06-01 17:24:23.852000  ACTIVE      FR   \n",
       "4         False    2018-09-20  2017-08-09 15:03:33.945000  ACTIVE      GB   \n",
       "\n",
       "   BIRTH_YEAR     KYC  FAILED_SIGN_IN_ATTEMPTS  \n",
       "0        1971  PASSED                        0  \n",
       "1        1982  PASSED                        0  \n",
       "2        1973  PASSED                        0  \n",
       "3        1986  PASSED                        0  \n",
       "4        1989  PASSED                        0  "
      ]
     },
     "execution_count": 58,
     "metadata": {},
     "output_type": "execute_result"
    }
   ],
   "source": [
    "users.head()"
   ]
  },
  {
   "cell_type": "markdown",
   "id": "07442fb7",
   "metadata": {},
   "source": [
    "We seem to have a lot of observations (~600k) so some potential questions could be:\n",
    "\n",
    "Are there differences between countries in the amount of fraud transactions? \n",
    "\n",
    "Is there a difference in the amount of fraud transactions between crypto and ordinary currencies?\n",
    "\n",
    "Do fraud transactions have a different distribution of money transferred than ordinary transactions?\n",
    "\n",
    "All of the questions above can help inform the last question:\n",
    "\n",
    "Can we create a good classification model? \n",
    "\n",
    "We test 3 alternative models: Logistic regression, random forest and a simple feedforward neural network.\n",
    "\n",
    "(Also we have to consider that the dataset provided will likely underestimate the amount of fraud transactions.\n",
    "Transactions that are flagged as fraud are extremely likely to be true, while there will be some that are not flagged that are in fact, fraudulent.)"
   ]
  },
  {
   "cell_type": "markdown",
   "id": "c29b9340",
   "metadata": {},
   "source": [
    "## Preprocessing & Exploration <a name=\"chapter1\"></a>"
   ]
  },
  {
   "cell_type": "code",
   "execution_count": 59,
   "id": "ee96017b",
   "metadata": {},
   "outputs": [
    {
     "data": {
      "text/plain": [
       "(638742, 23)"
      ]
     },
     "execution_count": 59,
     "metadata": {},
     "output_type": "execute_result"
    }
   ],
   "source": [
    "df = pd.merge(users, transactions, left_on='ID', right_on='USER_ID')\n",
    "df.shape"
   ]
  },
  {
   "cell_type": "code",
   "execution_count": 60,
   "id": "1d93f023",
   "metadata": {},
   "outputs": [
    {
     "data": {
      "text/plain": [
       "Index(['ID_x', 'HAS_EMAIL', 'PHONE_COUNTRY', 'IS_FRAUDSTER', 'TERMS_VERSION',\n",
       "       'CREATED_DATE_x', 'STATE_x', 'COUNTRY', 'BIRTH_YEAR', 'KYC',\n",
       "       'FAILED_SIGN_IN_ATTEMPTS', 'CURRENCY', 'AMOUNT', 'STATE_y',\n",
       "       'CREATED_DATE_y', 'MERCHANT_CATEGORY', 'MERCHANT_COUNTRY',\n",
       "       'ENTRY_METHOD', 'USER_ID', 'TYPE', 'SOURCE', 'ID_y', 'AMOUNT_USD'],\n",
       "      dtype='object')"
      ]
     },
     "execution_count": 60,
     "metadata": {},
     "output_type": "execute_result"
    }
   ],
   "source": [
    "df.columns"
   ]
  },
  {
   "cell_type": "code",
   "execution_count": 61,
   "id": "cc3ed976",
   "metadata": {},
   "outputs": [
    {
     "data": {
      "text/plain": [
       "ID_x                            0\n",
       "HAS_EMAIL                       0\n",
       "PHONE_COUNTRY                   0\n",
       "IS_FRAUDSTER                    0\n",
       "TERMS_VERSION               25658\n",
       "CREATED_DATE_x                  0\n",
       "STATE_x                         0\n",
       "COUNTRY                         0\n",
       "BIRTH_YEAR                      0\n",
       "KYC                             0\n",
       "FAILED_SIGN_IN_ATTEMPTS         0\n",
       "CURRENCY                        0\n",
       "AMOUNT                          0\n",
       "STATE_y                         0\n",
       "CREATED_DATE_y                  0\n",
       "MERCHANT_CATEGORY          430065\n",
       "MERCHANT_COUNTRY           191725\n",
       "ENTRY_METHOD                    0\n",
       "USER_ID                         0\n",
       "TYPE                            0\n",
       "SOURCE                          0\n",
       "ID_y                            0\n",
       "AMOUNT_USD                  52617\n",
       "dtype: int64"
      ]
     },
     "execution_count": 61,
     "metadata": {},
     "output_type": "execute_result"
    }
   ],
   "source": [
    "df.isna().sum() #Some missing data in the terms versions and the amount of USD. A lot of missing data in the merchants used"
   ]
  },
  {
   "cell_type": "code",
   "execution_count": 62,
   "id": "37cdce21",
   "metadata": {},
   "outputs": [
    {
     "data": {
      "text/html": [
       "<div>\n",
       "<style scoped>\n",
       "    .dataframe tbody tr th:only-of-type {\n",
       "        vertical-align: middle;\n",
       "    }\n",
       "\n",
       "    .dataframe tbody tr th {\n",
       "        vertical-align: top;\n",
       "    }\n",
       "\n",
       "    .dataframe thead th {\n",
       "        text-align: right;\n",
       "    }\n",
       "</style>\n",
       "<table border=\"1\" class=\"dataframe\">\n",
       "  <thead>\n",
       "    <tr style=\"text-align: right;\">\n",
       "      <th></th>\n",
       "      <th>ID_x</th>\n",
       "      <th>HAS_EMAIL</th>\n",
       "      <th>PHONE_COUNTRY</th>\n",
       "      <th>IS_FRAUDSTER</th>\n",
       "      <th>TERMS_VERSION</th>\n",
       "      <th>CREATED_DATE_x</th>\n",
       "      <th>STATE_x</th>\n",
       "      <th>COUNTRY</th>\n",
       "      <th>BIRTH_YEAR</th>\n",
       "      <th>KYC</th>\n",
       "      <th>...</th>\n",
       "      <th>STATE_y</th>\n",
       "      <th>CREATED_DATE_y</th>\n",
       "      <th>MERCHANT_CATEGORY</th>\n",
       "      <th>MERCHANT_COUNTRY</th>\n",
       "      <th>ENTRY_METHOD</th>\n",
       "      <th>USER_ID</th>\n",
       "      <th>TYPE</th>\n",
       "      <th>SOURCE</th>\n",
       "      <th>ID_y</th>\n",
       "      <th>AMOUNT_USD</th>\n",
       "    </tr>\n",
       "  </thead>\n",
       "  <tbody>\n",
       "    <tr>\n",
       "      <th>520538</th>\n",
       "      <td>848fc1b1-096c-40f7-b04a-1399c469e421</td>\n",
       "      <td>1</td>\n",
       "      <td>PL</td>\n",
       "      <td>True</td>\n",
       "      <td>2018-05-25</td>\n",
       "      <td>2018-06-16 15:55:43.800000</td>\n",
       "      <td>LOCKED</td>\n",
       "      <td>GB</td>\n",
       "      <td>1994</td>\n",
       "      <td>PASSED</td>\n",
       "      <td>...</td>\n",
       "      <td>COMPLETED</td>\n",
       "      <td>2018-06-29 12:34:41.413</td>\n",
       "      <td>NaN</td>\n",
       "      <td>NaN</td>\n",
       "      <td>misc</td>\n",
       "      <td>848fc1b1-096c-40f7-b04a-1399c469e421</td>\n",
       "      <td>TOPUP</td>\n",
       "      <td>MINOS</td>\n",
       "      <td>062feaed-978a-4e04-b167-accf58d4f51e</td>\n",
       "      <td>45481.0</td>\n",
       "    </tr>\n",
       "    <tr>\n",
       "      <th>520539</th>\n",
       "      <td>848fc1b1-096c-40f7-b04a-1399c469e421</td>\n",
       "      <td>1</td>\n",
       "      <td>PL</td>\n",
       "      <td>True</td>\n",
       "      <td>2018-05-25</td>\n",
       "      <td>2018-06-16 15:55:43.800000</td>\n",
       "      <td>LOCKED</td>\n",
       "      <td>GB</td>\n",
       "      <td>1994</td>\n",
       "      <td>PASSED</td>\n",
       "      <td>...</td>\n",
       "      <td>COMPLETED</td>\n",
       "      <td>2018-06-29 16:22:12.83</td>\n",
       "      <td>NaN</td>\n",
       "      <td>NaN</td>\n",
       "      <td>misc</td>\n",
       "      <td>848fc1b1-096c-40f7-b04a-1399c469e421</td>\n",
       "      <td>BANK_TRANSFER</td>\n",
       "      <td>MINOS</td>\n",
       "      <td>0baebd76-a069-46a0-b566-2b3c98779415</td>\n",
       "      <td>7618.0</td>\n",
       "    </tr>\n",
       "    <tr>\n",
       "      <th>520540</th>\n",
       "      <td>848fc1b1-096c-40f7-b04a-1399c469e421</td>\n",
       "      <td>1</td>\n",
       "      <td>PL</td>\n",
       "      <td>True</td>\n",
       "      <td>2018-05-25</td>\n",
       "      <td>2018-06-16 15:55:43.800000</td>\n",
       "      <td>LOCKED</td>\n",
       "      <td>GB</td>\n",
       "      <td>1994</td>\n",
       "      <td>PASSED</td>\n",
       "      <td>...</td>\n",
       "      <td>COMPLETED</td>\n",
       "      <td>2018-07-01 13:56:12.49</td>\n",
       "      <td>NaN</td>\n",
       "      <td>NaN</td>\n",
       "      <td>misc</td>\n",
       "      <td>848fc1b1-096c-40f7-b04a-1399c469e421</td>\n",
       "      <td>BANK_TRANSFER</td>\n",
       "      <td>CRONUS</td>\n",
       "      <td>a40d8b2a-8f54-4422-b8e3-9d6fc485b6a6</td>\n",
       "      <td>7525.0</td>\n",
       "    </tr>\n",
       "    <tr>\n",
       "      <th>520541</th>\n",
       "      <td>848fc1b1-096c-40f7-b04a-1399c469e421</td>\n",
       "      <td>1</td>\n",
       "      <td>PL</td>\n",
       "      <td>True</td>\n",
       "      <td>2018-05-25</td>\n",
       "      <td>2018-06-16 15:55:43.800000</td>\n",
       "      <td>LOCKED</td>\n",
       "      <td>GB</td>\n",
       "      <td>1994</td>\n",
       "      <td>PASSED</td>\n",
       "      <td>...</td>\n",
       "      <td>COMPLETED</td>\n",
       "      <td>2018-07-02 20:02:34.118</td>\n",
       "      <td>NaN</td>\n",
       "      <td>NaN</td>\n",
       "      <td>misc</td>\n",
       "      <td>848fc1b1-096c-40f7-b04a-1399c469e421</td>\n",
       "      <td>BANK_TRANSFER</td>\n",
       "      <td>MINOS</td>\n",
       "      <td>cb6d9f7c-f53b-40c7-9cde-e9925bb2f704</td>\n",
       "      <td>7387.0</td>\n",
       "    </tr>\n",
       "    <tr>\n",
       "      <th>520542</th>\n",
       "      <td>848fc1b1-096c-40f7-b04a-1399c469e421</td>\n",
       "      <td>1</td>\n",
       "      <td>PL</td>\n",
       "      <td>True</td>\n",
       "      <td>2018-05-25</td>\n",
       "      <td>2018-06-16 15:55:43.800000</td>\n",
       "      <td>LOCKED</td>\n",
       "      <td>GB</td>\n",
       "      <td>1994</td>\n",
       "      <td>PASSED</td>\n",
       "      <td>...</td>\n",
       "      <td>DECLINED</td>\n",
       "      <td>2018-07-07 12:18:43.854</td>\n",
       "      <td>NaN</td>\n",
       "      <td>GBR</td>\n",
       "      <td>chip</td>\n",
       "      <td>848fc1b1-096c-40f7-b04a-1399c469e421</td>\n",
       "      <td>ATM</td>\n",
       "      <td>GAIA</td>\n",
       "      <td>0d5adf49-9013-47c2-a39e-aef16567eea7</td>\n",
       "      <td>761.0</td>\n",
       "    </tr>\n",
       "  </tbody>\n",
       "</table>\n",
       "<p>5 rows × 23 columns</p>\n",
       "</div>"
      ],
      "text/plain": [
       "                                        ID_x  HAS_EMAIL PHONE_COUNTRY  \\\n",
       "520538  848fc1b1-096c-40f7-b04a-1399c469e421          1            PL   \n",
       "520539  848fc1b1-096c-40f7-b04a-1399c469e421          1            PL   \n",
       "520540  848fc1b1-096c-40f7-b04a-1399c469e421          1            PL   \n",
       "520541  848fc1b1-096c-40f7-b04a-1399c469e421          1            PL   \n",
       "520542  848fc1b1-096c-40f7-b04a-1399c469e421          1            PL   \n",
       "\n",
       "        IS_FRAUDSTER TERMS_VERSION              CREATED_DATE_x STATE_x  \\\n",
       "520538          True    2018-05-25  2018-06-16 15:55:43.800000  LOCKED   \n",
       "520539          True    2018-05-25  2018-06-16 15:55:43.800000  LOCKED   \n",
       "520540          True    2018-05-25  2018-06-16 15:55:43.800000  LOCKED   \n",
       "520541          True    2018-05-25  2018-06-16 15:55:43.800000  LOCKED   \n",
       "520542          True    2018-05-25  2018-06-16 15:55:43.800000  LOCKED   \n",
       "\n",
       "       COUNTRY  BIRTH_YEAR     KYC  ...    STATE_y           CREATED_DATE_y  \\\n",
       "520538      GB        1994  PASSED  ...  COMPLETED  2018-06-29 12:34:41.413   \n",
       "520539      GB        1994  PASSED  ...  COMPLETED   2018-06-29 16:22:12.83   \n",
       "520540      GB        1994  PASSED  ...  COMPLETED   2018-07-01 13:56:12.49   \n",
       "520541      GB        1994  PASSED  ...  COMPLETED  2018-07-02 20:02:34.118   \n",
       "520542      GB        1994  PASSED  ...   DECLINED  2018-07-07 12:18:43.854   \n",
       "\n",
       "        MERCHANT_CATEGORY MERCHANT_COUNTRY ENTRY_METHOD  \\\n",
       "520538                NaN              NaN         misc   \n",
       "520539                NaN              NaN         misc   \n",
       "520540                NaN              NaN         misc   \n",
       "520541                NaN              NaN         misc   \n",
       "520542                NaN              GBR         chip   \n",
       "\n",
       "                                     USER_ID           TYPE  SOURCE  \\\n",
       "520538  848fc1b1-096c-40f7-b04a-1399c469e421          TOPUP   MINOS   \n",
       "520539  848fc1b1-096c-40f7-b04a-1399c469e421  BANK_TRANSFER   MINOS   \n",
       "520540  848fc1b1-096c-40f7-b04a-1399c469e421  BANK_TRANSFER  CRONUS   \n",
       "520541  848fc1b1-096c-40f7-b04a-1399c469e421  BANK_TRANSFER   MINOS   \n",
       "520542  848fc1b1-096c-40f7-b04a-1399c469e421            ATM    GAIA   \n",
       "\n",
       "                                        ID_y AMOUNT_USD  \n",
       "520538  062feaed-978a-4e04-b167-accf58d4f51e    45481.0  \n",
       "520539  0baebd76-a069-46a0-b566-2b3c98779415     7618.0  \n",
       "520540  a40d8b2a-8f54-4422-b8e3-9d6fc485b6a6     7525.0  \n",
       "520541  cb6d9f7c-f53b-40c7-9cde-e9925bb2f704     7387.0  \n",
       "520542  0d5adf49-9013-47c2-a39e-aef16567eea7      761.0  \n",
       "\n",
       "[5 rows x 23 columns]"
      ]
     },
     "execution_count": 62,
     "metadata": {},
     "output_type": "execute_result"
    }
   ],
   "source": [
    "frauddf = df[df['IS_FRAUDSTER']==True]\n",
    "frauddf.head()"
   ]
  },
  {
   "cell_type": "code",
   "execution_count": 63,
   "id": "d5cd53f0",
   "metadata": {},
   "outputs": [
    {
     "data": {
      "text/plain": [
       "(13914, 23)"
      ]
     },
     "execution_count": 63,
     "metadata": {},
     "output_type": "execute_result"
    }
   ],
   "source": [
    "frauddf.shape #We have a very imbalanced distribution of fraud/nonfraud transactions, with"
   ]
  },
  {
   "cell_type": "code",
   "execution_count": 64,
   "id": "8c9275e6",
   "metadata": {},
   "outputs": [
    {
     "data": {
      "text/plain": [
       "GB    12459\n",
       "DE      508\n",
       "PL      347\n",
       "FR      208\n",
       "LT      157\n",
       "Name: COUNTRY, dtype: int64"
      ]
     },
     "execution_count": 64,
     "metadata": {},
     "output_type": "execute_result"
    }
   ],
   "source": [
    "frauddf['COUNTRY'].value_counts().head()\n",
    "# We see a very large proportion of classified fraudulent transactions \n",
    "# comes from phone numbers from Great Britain and other associated territories."
   ]
  },
  {
   "cell_type": "code",
   "execution_count": 65,
   "id": "e33f59c3",
   "metadata": {
    "scrolled": true
   },
   "outputs": [
    {
     "data": {
      "text/plain": [
       "GB||JE||IM||GG    12774\n",
       "PL                  346\n",
       "FR                  208\n",
       "LT                  157\n",
       "ES                  157\n",
       "Name: PHONE_COUNTRY, dtype: int64"
      ]
     },
     "execution_count": 65,
     "metadata": {},
     "output_type": "execute_result"
    }
   ],
   "source": [
    "frauddf['PHONE_COUNTRY'].value_counts().head() \n",
    "#No big difference between the Country column in amount of fraudulent transactions."
   ]
  },
  {
   "cell_type": "code",
   "execution_count": 66,
   "id": "570fb1ed",
   "metadata": {},
   "outputs": [
    {
     "data": {
      "text/plain": [
       "CARD_PAYMENT     6393\n",
       "TOPUP            3675\n",
       "ATM              2188\n",
       "BANK_TRANSFER    1222\n",
       "P2P               436\n",
       "Name: TYPE, dtype: int64"
      ]
     },
     "execution_count": 66,
     "metadata": {},
     "output_type": "execute_result"
    }
   ],
   "source": [
    "frauddf['TYPE'].value_counts().head()"
   ]
  },
  {
   "cell_type": "code",
   "execution_count": 67,
   "id": "83f434e9",
   "metadata": {},
   "outputs": [
    {
     "data": {
      "text/plain": [
       "GB    348946\n",
       "FR     60041\n",
       "LT     48154\n",
       "IE     41723\n",
       "PL     25005\n",
       "Name: COUNTRY, dtype: int64"
      ]
     },
     "execution_count": 67,
     "metadata": {},
     "output_type": "execute_result"
    }
   ],
   "source": [
    "df['COUNTRY'].value_counts().head()"
   ]
  },
  {
   "cell_type": "markdown",
   "id": "4004cc19",
   "metadata": {},
   "source": [
    "The total amount of transactions per phone numbers seems more balanced across different countries than the fraudulent ones.\n",
    "Given some domain knowledge this could suggest that fraudulent transactions from other countries than GB are missed.\n",
    "(Or alternatively fraud is much more common in GB than other countries - which a priori seems unlikely)"
   ]
  },
  {
   "cell_type": "code",
   "execution_count": 68,
   "id": "357b90cb",
   "metadata": {},
   "outputs": [
    {
     "data": {
      "text/html": [
       "<div>\n",
       "<style scoped>\n",
       "    .dataframe tbody tr th:only-of-type {\n",
       "        vertical-align: middle;\n",
       "    }\n",
       "\n",
       "    .dataframe tbody tr th {\n",
       "        vertical-align: top;\n",
       "    }\n",
       "\n",
       "    .dataframe thead th {\n",
       "        text-align: right;\n",
       "    }\n",
       "</style>\n",
       "<table border=\"1\" class=\"dataframe\">\n",
       "  <thead>\n",
       "    <tr style=\"text-align: right;\">\n",
       "      <th></th>\n",
       "      <th>HAS_EMAIL</th>\n",
       "      <th>COUNTRY</th>\n",
       "    </tr>\n",
       "  </thead>\n",
       "  <tbody>\n",
       "    <tr>\n",
       "      <th>0</th>\n",
       "      <td>27.0</td>\n",
       "      <td>NaN</td>\n",
       "    </tr>\n",
       "    <tr>\n",
       "      <th>1</th>\n",
       "      <td>13887.0</td>\n",
       "      <td>NaN</td>\n",
       "    </tr>\n",
       "    <tr>\n",
       "      <th>BE</th>\n",
       "      <td>NaN</td>\n",
       "      <td>4.0</td>\n",
       "    </tr>\n",
       "    <tr>\n",
       "      <th>CZ</th>\n",
       "      <td>NaN</td>\n",
       "      <td>11.0</td>\n",
       "    </tr>\n",
       "    <tr>\n",
       "      <th>DE</th>\n",
       "      <td>NaN</td>\n",
       "      <td>508.0</td>\n",
       "    </tr>\n",
       "    <tr>\n",
       "      <th>ES</th>\n",
       "      <td>NaN</td>\n",
       "      <td>157.0</td>\n",
       "    </tr>\n",
       "    <tr>\n",
       "      <th>FR</th>\n",
       "      <td>NaN</td>\n",
       "      <td>208.0</td>\n",
       "    </tr>\n",
       "    <tr>\n",
       "      <th>GB</th>\n",
       "      <td>NaN</td>\n",
       "      <td>12459.0</td>\n",
       "    </tr>\n",
       "    <tr>\n",
       "      <th>LT</th>\n",
       "      <td>NaN</td>\n",
       "      <td>157.0</td>\n",
       "    </tr>\n",
       "    <tr>\n",
       "      <th>NL</th>\n",
       "      <td>NaN</td>\n",
       "      <td>5.0</td>\n",
       "    </tr>\n",
       "    <tr>\n",
       "      <th>PL</th>\n",
       "      <td>NaN</td>\n",
       "      <td>347.0</td>\n",
       "    </tr>\n",
       "    <tr>\n",
       "      <th>RO</th>\n",
       "      <td>NaN</td>\n",
       "      <td>58.0</td>\n",
       "    </tr>\n",
       "  </tbody>\n",
       "</table>\n",
       "</div>"
      ],
      "text/plain": [
       "    HAS_EMAIL  COUNTRY\n",
       "0        27.0      NaN\n",
       "1     13887.0      NaN\n",
       "BE        NaN      4.0\n",
       "CZ        NaN     11.0\n",
       "DE        NaN    508.0\n",
       "ES        NaN    157.0\n",
       "FR        NaN    208.0\n",
       "GB        NaN  12459.0\n",
       "LT        NaN    157.0\n",
       "NL        NaN      5.0\n",
       "PL        NaN    347.0\n",
       "RO        NaN     58.0"
      ]
     },
     "execution_count": 68,
     "metadata": {},
     "output_type": "execute_result"
    }
   ],
   "source": [
    "frauddf[['HAS_EMAIL', 'COUNTRY']].apply(pd.Series.value_counts)"
   ]
  },
  {
   "cell_type": "code",
   "execution_count": 69,
   "id": "4d3a4ea9",
   "metadata": {},
   "outputs": [
    {
     "data": {
      "text/plain": [
       "<Axes: >"
      ]
     },
     "execution_count": 69,
     "metadata": {},
     "output_type": "execute_result"
    },
    {
     "data": {
      "image/png": "[encoded data removed]",
      "text/plain": [
       "<Figure size 640x480 with 1 Axes>"
      ]
     },
     "metadata": {},
     "output_type": "display_data"
    }
   ],
   "source": [
    "frauddf['AMOUNT_USD'].hist(bins=50, range=[0, 100000])"
   ]
  },
  {
   "cell_type": "code",
   "execution_count": 70,
   "id": "27d1424d",
   "metadata": {},
   "outputs": [
    {
     "data": {
      "text/plain": [
       "<Axes: >"
      ]
     },
     "execution_count": 70,
     "metadata": {},
     "output_type": "execute_result"
    },
    {
     "data": {
      "image/png": "[encoded data removed]",
      "text/plain": [
       "<Figure size 640x480 with 1 Axes>"
      ]
     },
     "metadata": {},
     "output_type": "display_data"
    }
   ],
   "source": [
    "df['AMOUNT_USD'].hist(bins=50, range=[0, 100000]) \n",
    "# A slight observed difference in the distribution of fraud and nonfraud transactions"
   ]
  },
  {
   "cell_type": "markdown",
   "id": "56d0e74b",
   "metadata": {},
   "source": [
    "We create a reduced dataframe where we drop features that at face value seem irrelevant to make the analysis somewhat simpler."
   ]
  },
  {
   "cell_type": "code",
   "execution_count": 81,
   "id": "4df4e695",
   "metadata": {},
   "outputs": [
    {
     "data": {
      "text/html": [
       "<div>\n",
       "<style scoped>\n",
       "    .dataframe tbody tr th:only-of-type {\n",
       "        vertical-align: middle;\n",
       "    }\n",
       "\n",
       "    .dataframe tbody tr th {\n",
       "        vertical-align: top;\n",
       "    }\n",
       "\n",
       "    .dataframe thead th {\n",
       "        text-align: right;\n",
       "    }\n",
       "</style>\n",
       "<table border=\"1\" class=\"dataframe\">\n",
       "  <thead>\n",
       "    <tr style=\"text-align: right;\">\n",
       "      <th></th>\n",
       "      <th>PHONE_COUNTRY</th>\n",
       "      <th>IS_FRAUDSTER</th>\n",
       "      <th>COUNTRY</th>\n",
       "      <th>KYC</th>\n",
       "      <th>CURRENCY</th>\n",
       "      <th>AMOUNT</th>\n",
       "      <th>STATE_y</th>\n",
       "      <th>ENTRY_METHOD</th>\n",
       "    </tr>\n",
       "  </thead>\n",
       "  <tbody>\n",
       "    <tr>\n",
       "      <th>0</th>\n",
       "      <td>GB||JE||IM||GG</td>\n",
       "      <td>False</td>\n",
       "      <td>GB</td>\n",
       "      <td>PASSED</td>\n",
       "      <td>GBP</td>\n",
       "      <td>50000.0</td>\n",
       "      <td>COMPLETED</td>\n",
       "      <td>misc</td>\n",
       "    </tr>\n",
       "    <tr>\n",
       "      <th>1</th>\n",
       "      <td>GB||JE||IM||GG</td>\n",
       "      <td>False</td>\n",
       "      <td>GB</td>\n",
       "      <td>PASSED</td>\n",
       "      <td>EUR</td>\n",
       "      <td>25000.0</td>\n",
       "      <td>COMPLETED</td>\n",
       "      <td>chip</td>\n",
       "    </tr>\n",
       "    <tr>\n",
       "      <th>2</th>\n",
       "      <td>GB||JE||IM||GG</td>\n",
       "      <td>False</td>\n",
       "      <td>GB</td>\n",
       "      <td>PASSED</td>\n",
       "      <td>EUR</td>\n",
       "      <td>2220.0</td>\n",
       "      <td>COMPLETED</td>\n",
       "      <td>chip</td>\n",
       "    </tr>\n",
       "    <tr>\n",
       "      <th>3</th>\n",
       "      <td>GB||JE||IM||GG</td>\n",
       "      <td>False</td>\n",
       "      <td>GB</td>\n",
       "      <td>PASSED</td>\n",
       "      <td>EUR</td>\n",
       "      <td>1190.0</td>\n",
       "      <td>COMPLETED</td>\n",
       "      <td>cont</td>\n",
       "    </tr>\n",
       "    <tr>\n",
       "      <th>4</th>\n",
       "      <td>GB||JE||IM||GG</td>\n",
       "      <td>False</td>\n",
       "      <td>GB</td>\n",
       "      <td>PASSED</td>\n",
       "      <td>GBP</td>\n",
       "      <td>1000.0</td>\n",
       "      <td>COMPLETED</td>\n",
       "      <td>misc</td>\n",
       "    </tr>\n",
       "  </tbody>\n",
       "</table>\n",
       "</div>"
      ],
      "text/plain": [
       "    PHONE_COUNTRY  IS_FRAUDSTER COUNTRY     KYC CURRENCY   AMOUNT    STATE_y  \\\n",
       "0  GB||JE||IM||GG         False      GB  PASSED      GBP  50000.0  COMPLETED   \n",
       "1  GB||JE||IM||GG         False      GB  PASSED      EUR  25000.0  COMPLETED   \n",
       "2  GB||JE||IM||GG         False      GB  PASSED      EUR   2220.0  COMPLETED   \n",
       "3  GB||JE||IM||GG         False      GB  PASSED      EUR   1190.0  COMPLETED   \n",
       "4  GB||JE||IM||GG         False      GB  PASSED      GBP   1000.0  COMPLETED   \n",
       "\n",
       "  ENTRY_METHOD  \n",
       "0         misc  \n",
       "1         chip  \n",
       "2         chip  \n",
       "3         cont  \n",
       "4         misc  "
      ]
     },
     "execution_count": 81,
     "metadata": {},
     "output_type": "execute_result"
    }
   ],
   "source": [
    "reduceddf = df[[#'ID_x', 'HAS_EMAIL', \n",
    "        'PHONE_COUNTRY', 'IS_FRAUDSTER', \n",
    "        #'TERMS_VERSION',\n",
    "        #'CREATED_DATE_x', 'STATE_x', \n",
    "        'COUNTRY', #'BIRTH_YEAR', \n",
    "        'KYC',\n",
    "        #'FAILED_SIGN_IN_ATTEMPTS', \n",
    "        'CURRENCY', 'AMOUNT', 'STATE_y',\n",
    "        #'CREATED_DATE_y', \n",
    "        #'MERCHANT_CATEGORY', 'MERCHANT_COUNTRY',\n",
    "       'ENTRY_METHOD', \n",
    "        #'USER_ID', 'TYPE', 'SOURCE', 'ID_y', 'AMOUNT_USD'\n",
    "        ]]\n",
    "\n",
    "reduceddf.head()"
   ]
  },
  {
   "cell_type": "markdown",
   "id": "6cefce51",
   "metadata": {},
   "source": [
    "## Model Selection <a name=\"chapter2\"></a>"
   ]
  },
  {
   "cell_type": "markdown",
   "id": "73ed06e0",
   "metadata": {},
   "source": [
    "### Logistic Model <a name=\"section_2_1\"></a>"
   ]
  },
  {
   "cell_type": "code",
   "execution_count": 72,
   "id": "664c766b",
   "metadata": {},
   "outputs": [
    {
     "name": "stdout",
     "output_type": "stream",
     "text": [
      "<class 'pandas.core.frame.DataFrame'>\n",
      "Int64Index: 638742 entries, 0 to 638741\n",
      "Data columns (total 8 columns):\n",
      " #   Column         Non-Null Count   Dtype \n",
      "---  ------         --------------   ----- \n",
      " 0   PHONE_COUNTRY  638742 non-null  object\n",
      " 1   IS_FRAUDSTER   638742 non-null  bool  \n",
      " 2   COUNTRY        638742 non-null  object\n",
      " 3   KYC            638742 non-null  object\n",
      " 4   CURRENCY       638742 non-null  object\n",
      " 5   AMOUNT         638742 non-null  int64 \n",
      " 6   STATE_y        638742 non-null  object\n",
      " 7   ENTRY_METHOD   638742 non-null  object\n",
      "dtypes: bool(1), int64(1), object(6)\n",
      "memory usage: 39.6+ MB\n"
     ]
    }
   ],
   "source": [
    "#Logistic regression using the selected features\n",
    "reduceddf.info()"
   ]
  },
  {
   "cell_type": "code",
   "execution_count": 73,
   "id": "86c13105",
   "metadata": {},
   "outputs": [],
   "source": [
    "phone_dummie = pd.get_dummies(reduceddf.PHONE_COUNTRY,prefix='phone',drop_first=True)\n",
    "country_dummie = pd.get_dummies(reduceddf.COUNTRY ,prefix='country',drop_first=True)\n",
    "kyc_dummie = pd.get_dummies(reduceddf.KYC,prefix='KYC',drop_first=True)\n",
    "CURRENCY_dummie = pd.get_dummies(reduceddf.CURRENCY,prefix='Currency',drop_first=True)\n",
    "State_dummie = pd.get_dummies(reduceddf.STATE_y ,prefix='State',drop_first=True)\n",
    "entry_dummie = pd.get_dummies(reduceddf.ENTRY_METHOD,prefix='entrymethod',drop_first=True)\n",
    "df[\"AMOUNT\"] = pd.to_numeric(df[\"AMOUNT\"], downcast=\"float\")"
   ]
  },
  {
   "cell_type": "code",
   "execution_count": 74,
   "id": "853408c1",
   "metadata": {},
   "outputs": [],
   "source": [
    "newdata = pd.concat([phone_dummie,country_dummie, kyc_dummie, CURRENCY_dummie, State_dummie, entry_dummie],axis=1)\n",
    "X = newdata\n",
    "y = df.IS_FRAUDSTER\n",
    "X_train, X_test, y_train, y_test = train_test_split(X, y, random_state=1)"
   ]
  },
  {
   "cell_type": "code",
   "execution_count": 75,
   "id": "45d7849c",
   "metadata": {},
   "outputs": [],
   "source": [
    "def evaluation(y_test, y_pred):\n",
    "    print('Accuracy: '  + str(metrics.accuracy_score(y_test, y_pred)))\n",
    "    print('Recall: ' + str(metrics.recall_score(y_test, y_pred)))\n",
    "    print('F1 Score: ' + str(metrics.f1_score(y_test, y_pred)))\n",
    "    print('Precision: ' + str(metrics.precision_score(y_test, y_pred)))"
   ]
  },
  {
   "cell_type": "code",
   "execution_count": 76,
   "id": "bdda339a",
   "metadata": {},
   "outputs": [
    {
     "name": "stdout",
     "output_type": "stream",
     "text": [
      "Accuracy: 0.9815826058640081\n",
      "Recall: 0.16714864083285136\n",
      "F1 Score: 0.2821576763485477\n",
      "Precision: 0.9045383411580594\n"
     ]
    },
    {
     "data": {
      "text/plain": [
       "<sklearn.metrics._plot.confusion_matrix.ConfusionMatrixDisplay at 0x1e788a5a9e0>"
      ]
     },
     "execution_count": 76,
     "metadata": {},
     "output_type": "execute_result"
    },
    {
     "data": {
      "image/png": "[encoded data removed]",
      "text/plain": [
       "<Figure size 640x480 with 2 Axes>"
      ]
     },
     "metadata": {},
     "output_type": "display_data"
    }
   ],
   "source": [
    "lr = LogisticRegression()\n",
    "lr.fit(X_train,y_train)\n",
    "y_pred = lr.predict(X_test)\n",
    "evaluation(y_test, y_pred)\n",
    "\n",
    "cm = confusion_matrix(y_test, y_pred)\n",
    "disp = ConfusionMatrixDisplay(confusion_matrix=cm)\n",
    "disp.plot()"
   ]
  },
  {
   "cell_type": "code",
   "execution_count": 77,
   "id": "e5f1e14e",
   "metadata": {},
   "outputs": [
    {
     "data": {
      "text/html": [
       "<div>\n",
       "<style scoped>\n",
       "    .dataframe tbody tr th:only-of-type {\n",
       "        vertical-align: middle;\n",
       "    }\n",
       "\n",
       "    .dataframe tbody tr th {\n",
       "        vertical-align: top;\n",
       "    }\n",
       "\n",
       "    .dataframe thead th {\n",
       "        text-align: right;\n",
       "    }\n",
       "</style>\n",
       "<table border=\"1\" class=\"dataframe\">\n",
       "  <thead>\n",
       "    <tr style=\"text-align: right;\">\n",
       "      <th></th>\n",
       "      <th>features</th>\n",
       "      <th>coef</th>\n",
       "      <th>coefabs</th>\n",
       "    </tr>\n",
       "  </thead>\n",
       "  <tbody>\n",
       "    <tr>\n",
       "      <th>59</th>\n",
       "      <td>phone_PT</td>\n",
       "      <td>[6.572922630008665]</td>\n",
       "      <td>[6.572922630008665]</td>\n",
       "    </tr>\n",
       "    <tr>\n",
       "      <th>79</th>\n",
       "      <td>country_DE</td>\n",
       "      <td>[6.558551028137909]</td>\n",
       "      <td>[6.558551028137909]</td>\n",
       "    </tr>\n",
       "    <tr>\n",
       "      <th>109</th>\n",
       "      <td>country_PT</td>\n",
       "      <td>[-5.72364358983604]</td>\n",
       "      <td>[5.72364358983604]</td>\n",
       "    </tr>\n",
       "    <tr>\n",
       "      <th>15</th>\n",
       "      <td>phone_DE</td>\n",
       "      <td>[-5.638069958154218]</td>\n",
       "      <td>[5.638069958154218]</td>\n",
       "    </tr>\n",
       "    <tr>\n",
       "      <th>116</th>\n",
       "      <td>KYC_NONE</td>\n",
       "      <td>[-5.096089539276917]</td>\n",
       "      <td>[5.096089539276917]</td>\n",
       "    </tr>\n",
       "    <tr>\n",
       "      <th>118</th>\n",
       "      <td>KYC_PENDING</td>\n",
       "      <td>[3.2521093574689854]</td>\n",
       "      <td>[3.2521093574689854]</td>\n",
       "    </tr>\n",
       "    <tr>\n",
       "      <th>61</th>\n",
       "      <td>phone_RO</td>\n",
       "      <td>[3.1613749783471414]</td>\n",
       "      <td>[3.1613749783471414]</td>\n",
       "    </tr>\n",
       "    <tr>\n",
       "      <th>127</th>\n",
       "      <td>Currency_GBP</td>\n",
       "      <td>[2.768899809524903]</td>\n",
       "      <td>[2.768899809524903]</td>\n",
       "    </tr>\n",
       "    <tr>\n",
       "      <th>23</th>\n",
       "      <td>phone_GB||JE||IM||GG</td>\n",
       "      <td>[2.653689343223172]</td>\n",
       "      <td>[2.653689343223172]</td>\n",
       "    </tr>\n",
       "    <tr>\n",
       "      <th>20</th>\n",
       "      <td>phone_ES</td>\n",
       "      <td>[2.550590263072773]</td>\n",
       "      <td>[2.550590263072773]</td>\n",
       "    </tr>\n",
       "  </tbody>\n",
       "</table>\n",
       "</div>"
      ],
      "text/plain": [
       "                 features                  coef               coefabs\n",
       "59               phone_PT   [6.572922630008665]   [6.572922630008665]\n",
       "79             country_DE   [6.558551028137909]   [6.558551028137909]\n",
       "109            country_PT   [-5.72364358983604]    [5.72364358983604]\n",
       "15               phone_DE  [-5.638069958154218]   [5.638069958154218]\n",
       "116              KYC_NONE  [-5.096089539276917]   [5.096089539276917]\n",
       "118           KYC_PENDING  [3.2521093574689854]  [3.2521093574689854]\n",
       "61               phone_RO  [3.1613749783471414]  [3.1613749783471414]\n",
       "127          Currency_GBP   [2.768899809524903]   [2.768899809524903]\n",
       "23   phone_GB||JE||IM||GG   [2.653689343223172]   [2.653689343223172]\n",
       "20               phone_ES   [2.550590263072773]   [2.550590263072773]"
      ]
     },
     "execution_count": 77,
     "metadata": {},
     "output_type": "execute_result"
    }
   ],
   "source": [
    "coef = pd.DataFrame(zip(X_train.columns, np.transpose(lr.coef_)), columns=['features', 'coef'])\n",
    "coef['coefabs'] = abs(coef['coef'])\n",
    "coef.sort_values(by='coefabs', ascending=False).head(10)"
   ]
  },
  {
   "cell_type": "markdown",
   "id": "64abdfc4",
   "metadata": {},
   "source": [
    "We see that Germany and Portugal have high coefficients, however with both country and phone included the effects seem to cancel out if the transaction has both values equal to one of these countries. Most interesting is perhaps the effect of the KYC. An interpretation is that if KYC_NONE is 1 (True) then the odds is multiplied by $$\\exp(-5.09) \\approx 0.006$$. In other words, no KYC implies that the odds of the transaction being fraudulent is very low (while KYC = pending increases the odds drastically)."
   ]
  },
  {
   "cell_type": "markdown",
   "id": "21ea0e24",
   "metadata": {},
   "source": [
    "### Random Forest <a name=\"section_2_2\"></a>"
   ]
  },
  {
   "cell_type": "code",
   "execution_count": 78,
   "id": "93e85974",
   "metadata": {
    "scrolled": true
   },
   "outputs": [
    {
     "name": "stdout",
     "output_type": "stream",
     "text": [
      "0.9808749671229788\n",
      "              precision    recall  f1-score   support\n",
      "\n",
      "       False       0.98      1.00      0.99    156228\n",
      "        True       0.92      0.13      0.22      3458\n",
      "\n",
      "    accuracy                           0.98    159686\n",
      "   macro avg       0.95      0.56      0.61    159686\n",
      "weighted avg       0.98      0.98      0.97    159686\n",
      "\n"
     ]
    },
    {
     "data": {
      "text/plain": [
       "<sklearn.metrics._plot.confusion_matrix.ConfusionMatrixDisplay at 0x1e78317b520>"
      ]
     },
     "execution_count": 78,
     "metadata": {},
     "output_type": "execute_result"
    },
    {
     "data": {
      "image/png": "[encoded data removed]",
      "text/plain": [
       "<Figure size 640x480 with 2 Axes>"
      ]
     },
     "metadata": {},
     "output_type": "display_data"
    }
   ],
   "source": [
    "#Tree Classifier with max leaf nodes = 3\n",
    "tree_3_leaf = DecisionTreeClassifier(max_leaf_nodes= 3, random_state=2)\n",
    "\n",
    "tree_3_leaf.fit(X_train, y_train)\n",
    "y_predict = tree_3_leaf.predict(X_test)\n",
    "\n",
    "print(accuracy_score(y_test, y_predict))\n",
    "print(classification_report(y_test, y_predict))\n",
    "\n",
    "# Confusion matrix\n",
    "cm = confusion_matrix(y_test, y_predict)\n",
    "disp = ConfusionMatrixDisplay(confusion_matrix=cm)\n",
    "disp.plot()"
   ]
  },
  {
   "cell_type": "code",
   "execution_count": 82,
   "id": "b784a785",
   "metadata": {},
   "outputs": [
    {
     "data": {
      "application/javascript": [
       "\n",
       "        if (window._pyforest_update_imports_cell) { window._pyforest_update_imports_cell('from sklearn.ensemble import RandomForestClassifier\\nimport tensorflow as tf'); }\n",
       "    "
      ],
      "text/plain": [
       "<IPython.core.display.Javascript object>"
      ]
     },
     "metadata": {},
     "output_type": "display_data"
    },
    {
     "name": "stdout",
     "output_type": "stream",
     "text": [
      "0.9818769334819584\n",
      "              precision    recall  f1-score   support\n",
      "\n",
      "       False       0.98      1.00      0.99    156228\n",
      "        True       0.92      0.18      0.30      3458\n",
      "\n",
      "    accuracy                           0.98    159686\n",
      "   macro avg       0.95      0.59      0.65    159686\n",
      "weighted avg       0.98      0.98      0.98    159686\n",
      "\n"
     ]
    },
    {
     "data": {
      "text/plain": [
       "<sklearn.metrics._plot.confusion_matrix.ConfusionMatrixDisplay at 0x1e7dfc56320>"
      ]
     },
     "execution_count": 82,
     "metadata": {},
     "output_type": "execute_result"
    },
    {
     "data": {
      "image/png": "[encoded data removed]",
      "text/plain": [
       "<Figure size 640x480 with 2 Axes>"
      ]
     },
     "metadata": {},
     "output_type": "display_data"
    }
   ],
   "source": [
    "# Random Forest Classifier\n",
    "rf = RandomForestClassifier(random_state=2)\n",
    "\n",
    "rf.fit(X_train, y_train)\n",
    "y_predict = rf.predict(X_test)\n",
    "\n",
    "print(accuracy_score(y_test, y_predict))\n",
    "print(classification_report(y_test, y_predict))\n",
    "\n",
    "# Confusion matrix\n",
    "cm = confusion_matrix(y_test, y_predict)\n",
    "disp = ConfusionMatrixDisplay(confusion_matrix=cm)\n",
    "disp.plot()"
   ]
  },
  {
   "cell_type": "markdown",
   "id": "8c569d36",
   "metadata": {},
   "source": [
    "### Feedforward Neural Network <a name=\"section_2_3\"></a>"
   ]
  },
  {
   "cell_type": "code",
   "execution_count": 83,
   "id": "6b02c919",
   "metadata": {},
   "outputs": [
    {
     "data": {
      "application/javascript": [
       "\n",
       "        if (window._pyforest_update_imports_cell) { window._pyforest_update_imports_cell('from sklearn.ensemble import RandomForestClassifier\\nimport tensorflow as tf'); }\n",
       "    "
      ],
      "text/plain": [
       "<IPython.core.display.Javascript object>"
      ]
     },
     "metadata": {},
     "output_type": "display_data"
    },
    {
     "data": {
      "application/javascript": [
       "\n",
       "        if (window._pyforest_update_imports_cell) { window._pyforest_update_imports_cell('from sklearn.ensemble import RandomForestClassifier\\nimport tensorflow as tf'); }\n",
       "    "
      ],
      "text/plain": [
       "<IPython.core.display.Javascript object>"
      ]
     },
     "metadata": {},
     "output_type": "display_data"
    },
    {
     "name": "stdout",
     "output_type": "stream",
     "text": [
      "Epoch 1/4\n",
      "47906/47906 [==============================] - 52s 1ms/step - loss: 0.0797 - accuracy: 0.9813\n",
      "Epoch 2/4\n",
      "47906/47906 [==============================] - 52s 1ms/step - loss: 0.0772 - accuracy: 0.9817\n",
      "Epoch 3/4\n",
      "47906/47906 [==============================] - 52s 1ms/step - loss: 0.0770 - accuracy: 0.9817\n",
      "Epoch 4/4\n",
      "47906/47906 [==============================] - 52s 1ms/step - loss: 0.0769 - accuracy: 0.9818\n",
      "4991/4991 [==============================] - 5s 1ms/step - loss: 0.0766 - accuracy: 0.9818\n",
      "Accuracy:  0.9817892909049988\n"
     ]
    }
   ],
   "source": [
    "# Fitting a neural network\n",
    "\n",
    "x_train = tf.keras.utils.normalize(X_train, axis=1)\n",
    "x_test = tf.keras.utils.normalize(X_test, axis=1)\n",
    "\n",
    "# Defining a simple feedforward neural network\n",
    "model = Sequential()\n",
    "model.add(Dense(12, input_shape=(158,), activation='relu'))\n",
    "model.add(Dense(8, activation='relu'))\n",
    "model.add(Dense(1, activation='sigmoid'))\n",
    "\n",
    "model.compile(loss='binary_crossentropy', optimizer='adam', metrics=['accuracy'])\n",
    "model.fit(x_train, y_train, epochs=4, batch_size=10)\n",
    "accuracy = model.evaluate(x_test, y_test)\n",
    "print('Accuracy: ', accuracy[1])"
   ]
  },
  {
   "cell_type": "markdown",
   "id": "edc1d59b",
   "metadata": {},
   "source": [
    "## Conclusion <a name=\"chapter3\"></a>"
   ]
  },
  {
   "cell_type": "markdown",
   "id": "49c3c473",
   "metadata": {},
   "source": [
    "We were able to create some models performing slightly better than the naive prediction of guessing that every transaction was nonfraud (which would have a 97% accuracy, compared to our 98.xx % accuracy from our models).\n",
    "\n",
    "For further work, it could make sense to balance the distribution between nonfraud and fraud transactions, as I would assume detecting fraud transactions would be the key concern. One could also tune the hyperparameters in the neural net, use AIC to select a smaller logistic model, consider other models etc... depending on domain knowledge and time constraints."
   ]
  }
 ],
 "metadata": {
  "kernelspec": {
   "display_name": "Python 3 (ipykernel)",
   "language": "python",
   "name": "python3"
  },
  "language_info": {
   "codemirror_mode": {
    "name": "ipython",
    "version": 3
   },
   "file_extension": ".py",
   "mimetype": "text/x-python",
   "name": "python",
   "nbconvert_exporter": "python",
   "pygments_lexer": "ipython3",
   "version": "3.10.4"
  }
 },
 "nbformat": 4,
 "nbformat_minor": 5
}
